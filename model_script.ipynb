{
 "cells": [
  {
   "cell_type": "markdown",
   "id": "734a0470",
   "metadata": {},
   "source": [
    "MNIST Dataset Support Vector Machine (SVM) by Micah Borghese"
   ]
  },
  {
   "cell_type": "code",
   "execution_count": 1,
   "id": "6d6751b8",
   "metadata": {},
   "outputs": [
    {
     "name": "stderr",
     "output_type": "stream",
     "text": [
      "C:\\Users\\micah\\AppData\\Local\\Packages\\PythonSoftwareFoundation.Python.3.11_qbz5n2kfra8p0\\LocalCache\\local-packages\\Python311\\site-packages\\tqdm\\auto.py:21: TqdmWarning: IProgress not found. Please update jupyter and ipywidgets. See https://ipywidgets.readthedocs.io/en/stable/user_install.html\n",
      "  from .autonotebook import tqdm as notebook_tqdm\n"
     ]
    }
   ],
   "source": [
    "import tensorflow as tf\n",
    "import tensorflow_datasets as tfds\n",
    "import numpy as np\n",
    "import matplotlib.pyplot as plt\n",
    "import pandas as pd\n",
    "\n",
    "ds, info = tfds.load('mnist', split=None, with_info=True)"
   ]
  },
  {
   "cell_type": "markdown",
   "metadata": {},
   "source": [
    "Now that the dataset is loaded in, we should probably normalize the vector images (make the pixels either a 0 or a 1). This would probably help with the model's performance. \n",
    "\n",
    "However, I'm going to skip that for now and implement it later. It would also be cool to see how an unnormalized vs normalized dataset would compare in classification accuracy."
   ]
  },
  {
   "cell_type": "code",
   "execution_count": 2,
   "metadata": {},
   "outputs": [],
   "source": [
    "training_image_arrays = np.array(list(ds['train'].map(lambda x: x['image']).as_numpy_iterator())) # Convert images to NumPy arrays\n",
    "training_flatten_images = training_image_arrays.reshape(training_image_arrays.shape[0], -1) # Flatten images (28x28) to 1D vectors of 784 pixels\n",
    "column_names = [f\"pixel_{i}\" for i in range(training_flatten_images.shape[1])] # Create a pandas DataFrame\n",
    "X_train = pd.DataFrame(training_flatten_images, columns=column_names) # x is the independent variable (input) of the model, the vector of features (28x28=784 pixels)\n",
    "y_train = tfds.as_dataframe(ds['train'].map(lambda x: x['label'])) # y is the dependent variable (output) of the model, the label (0-9)\n",
    "\n",
    "testing_image_arrays = np.array(list(ds['test'].map(lambda x: x['image']).as_numpy_iterator()))\n",
    "testing_flatten_images = testing_image_arrays.reshape(testing_image_arrays.shape[0], -1)\n",
    "column_names = [f\"pixel_{i}\" for i in range(testing_flatten_images.shape[1])]\n",
    "X_test = pd.DataFrame(testing_flatten_images, columns=column_names)\n",
    "y_test = tfds.as_dataframe(ds['test'].map(lambda x: x['label']))"
   ]
  },
  {
   "cell_type": "code",
   "execution_count": 3,
   "id": "7322e47a",
   "metadata": {},
   "outputs": [
    {
     "ename": "InvalidIndexError",
     "evalue": "(0, slice(None, None, None))",
     "output_type": "error",
     "traceback": [
      "\u001b[1;31m---------------------------------------------------------------------------\u001b[0m",
      "\u001b[1;31mTypeError\u001b[0m                                 Traceback (most recent call last)",
      "File \u001b[1;32m~\\AppData\\Local\\Packages\\PythonSoftwareFoundation.Python.3.11_qbz5n2kfra8p0\\LocalCache\\local-packages\\Python311\\site-packages\\pandas\\core\\indexes\\base.py:3790\u001b[0m, in \u001b[0;36mIndex.get_loc\u001b[1;34m(self, key)\u001b[0m\n\u001b[0;32m   3789\u001b[0m \u001b[39mtry\u001b[39;00m:\n\u001b[1;32m-> 3790\u001b[0m     \u001b[39mreturn\u001b[39;00m \u001b[39mself\u001b[39;49m\u001b[39m.\u001b[39;49m_engine\u001b[39m.\u001b[39;49mget_loc(casted_key)\n\u001b[0;32m   3791\u001b[0m \u001b[39mexcept\u001b[39;00m \u001b[39mKeyError\u001b[39;00m \u001b[39mas\u001b[39;00m err:\n",
      "File \u001b[1;32mindex.pyx:152\u001b[0m, in \u001b[0;36mpandas._libs.index.IndexEngine.get_loc\u001b[1;34m()\u001b[0m\n",
      "File \u001b[1;32mindex.pyx:158\u001b[0m, in \u001b[0;36mpandas._libs.index.IndexEngine.get_loc\u001b[1;34m()\u001b[0m\n",
      "\u001b[1;31mTypeError\u001b[0m: '(0, slice(None, None, None))' is an invalid key",
      "\nDuring handling of the above exception, another exception occurred:\n",
      "\u001b[1;31mInvalidIndexError\u001b[0m                         Traceback (most recent call last)",
      "\u001b[1;32mc:\\Users\\micah\\OneDrive - University of Kansas\\KU Junior\\MATH 582\\final project\\mnist_guesser\\model_script.ipynb Cell 5\u001b[0m line \u001b[0;36m8\n\u001b[0;32m      <a href='vscode-notebook-cell:/c%3A/Users/micah/OneDrive%20-%20University%20of%20Kansas/KU%20Junior/MATH%20582/final%20project/mnist_guesser/model_script.ipynb#W4sZmlsZQ%3D%3D?line=4'>5</a>\u001b[0m \u001b[39mfrom\u001b[39;00m \u001b[39msvm\u001b[39;00m \u001b[39mimport\u001b[39;00m SVM\n\u001b[0;32m      <a href='vscode-notebook-cell:/c%3A/Users/micah/OneDrive%20-%20University%20of%20Kansas/KU%20Junior/MATH%20582/final%20project/mnist_guesser/model_script.ipynb#W4sZmlsZQ%3D%3D?line=6'>7</a>\u001b[0m svm \u001b[39m=\u001b[39m SVM()\n\u001b[1;32m----> <a href='vscode-notebook-cell:/c%3A/Users/micah/OneDrive%20-%20University%20of%20Kansas/KU%20Junior/MATH%20582/final%20project/mnist_guesser/model_script.ipynb#W4sZmlsZQ%3D%3D?line=7'>8</a>\u001b[0m svm\u001b[39m.\u001b[39;49mfit(X_train, y_train)\n",
      "File \u001b[1;32mc:\\Users\\micah\\OneDrive - University of Kansas\\KU Junior\\MATH 582\\final project\\mnist_guesser\\svm.py:23\u001b[0m, in \u001b[0;36mSVM.fit\u001b[1;34m(self, X, y)\u001b[0m\n\u001b[0;32m     21\u001b[0m \u001b[39mfor\u001b[39;00m i \u001b[39min\u001b[39;00m \u001b[39mrange\u001b[39m( N ):\n\u001b[0;32m     22\u001b[0m     \u001b[39mfor\u001b[39;00m j \u001b[39min\u001b[39;00m \u001b[39mrange\u001b[39m( N ):\n\u001b[1;32m---> 23\u001b[0m         K[ i, j ] \u001b[39m=\u001b[39m calculate_kernel( X \u001b[39m=\u001b[39m X[ i, : ], y \u001b[39m=\u001b[39m X[ j, : ], sigma \u001b[39m=\u001b[39m \u001b[39m1\u001b[39m )\n\u001b[0;32m     25\u001b[0m P \u001b[39m=\u001b[39m matrix( Y \u001b[39m@\u001b[39m K \u001b[39m@\u001b[39m Y )\n\u001b[0;32m     26\u001b[0m q \u001b[39m=\u001b[39m matrix( np\u001b[39m.\u001b[39mones( ( N,\u001b[39m1\u001b[39m ) ) \u001b[39m*\u001b[39m \u001b[39m-\u001b[39m\u001b[39m1\u001b[39m )\n",
      "File \u001b[1;32m~\\AppData\\Local\\Packages\\PythonSoftwareFoundation.Python.3.11_qbz5n2kfra8p0\\LocalCache\\local-packages\\Python311\\site-packages\\pandas\\core\\frame.py:3893\u001b[0m, in \u001b[0;36mDataFrame.__getitem__\u001b[1;34m(self, key)\u001b[0m\n\u001b[0;32m   3891\u001b[0m \u001b[39mif\u001b[39;00m \u001b[39mself\u001b[39m\u001b[39m.\u001b[39mcolumns\u001b[39m.\u001b[39mnlevels \u001b[39m>\u001b[39m \u001b[39m1\u001b[39m:\n\u001b[0;32m   3892\u001b[0m     \u001b[39mreturn\u001b[39;00m \u001b[39mself\u001b[39m\u001b[39m.\u001b[39m_getitem_multilevel(key)\n\u001b[1;32m-> 3893\u001b[0m indexer \u001b[39m=\u001b[39m \u001b[39mself\u001b[39;49m\u001b[39m.\u001b[39;49mcolumns\u001b[39m.\u001b[39;49mget_loc(key)\n\u001b[0;32m   3894\u001b[0m \u001b[39mif\u001b[39;00m is_integer(indexer):\n\u001b[0;32m   3895\u001b[0m     indexer \u001b[39m=\u001b[39m [indexer]\n",
      "File \u001b[1;32m~\\AppData\\Local\\Packages\\PythonSoftwareFoundation.Python.3.11_qbz5n2kfra8p0\\LocalCache\\local-packages\\Python311\\site-packages\\pandas\\core\\indexes\\base.py:3802\u001b[0m, in \u001b[0;36mIndex.get_loc\u001b[1;34m(self, key)\u001b[0m\n\u001b[0;32m   3797\u001b[0m     \u001b[39mraise\u001b[39;00m \u001b[39mKeyError\u001b[39;00m(key) \u001b[39mfrom\u001b[39;00m \u001b[39merr\u001b[39;00m\n\u001b[0;32m   3798\u001b[0m \u001b[39mexcept\u001b[39;00m \u001b[39mTypeError\u001b[39;00m:\n\u001b[0;32m   3799\u001b[0m     \u001b[39m# If we have a listlike key, _check_indexing_error will raise\u001b[39;00m\n\u001b[0;32m   3800\u001b[0m     \u001b[39m#  InvalidIndexError. Otherwise we fall through and re-raise\u001b[39;00m\n\u001b[0;32m   3801\u001b[0m     \u001b[39m#  the TypeError.\u001b[39;00m\n\u001b[1;32m-> 3802\u001b[0m     \u001b[39mself\u001b[39;49m\u001b[39m.\u001b[39;49m_check_indexing_error(key)\n\u001b[0;32m   3803\u001b[0m     \u001b[39mraise\u001b[39;00m\n",
      "File \u001b[1;32m~\\AppData\\Local\\Packages\\PythonSoftwareFoundation.Python.3.11_qbz5n2kfra8p0\\LocalCache\\local-packages\\Python311\\site-packages\\pandas\\core\\indexes\\base.py:5974\u001b[0m, in \u001b[0;36mIndex._check_indexing_error\u001b[1;34m(self, key)\u001b[0m\n\u001b[0;32m   5970\u001b[0m \u001b[39mdef\u001b[39;00m \u001b[39m_check_indexing_error\u001b[39m(\u001b[39mself\u001b[39m, key):\n\u001b[0;32m   5971\u001b[0m     \u001b[39mif\u001b[39;00m \u001b[39mnot\u001b[39;00m is_scalar(key):\n\u001b[0;32m   5972\u001b[0m         \u001b[39m# if key is not a scalar, directly raise an error (the code below\u001b[39;00m\n\u001b[0;32m   5973\u001b[0m         \u001b[39m# would convert to numpy arrays and raise later any way) - GH29926\u001b[39;00m\n\u001b[1;32m-> 5974\u001b[0m         \u001b[39mraise\u001b[39;00m InvalidIndexError(key)\n",
      "\u001b[1;31mInvalidIndexError\u001b[0m: (0, slice(None, None, None))"
     ]
    }
   ],
   "source": [
    "from sklearn.svm import SVC\n",
    "#svm = SVC(kernal='rbf', random_state=0)\n",
    "#svm.fit(X_train, y_train)\n",
    "\n",
    "from svm import SVM\n",
    "\n",
    "svm = SVM()\n",
    "svm.fit(X_train, y_train)"
   ]
  },
  {
   "cell_type": "markdown",
   "metadata": {},
   "source": [
    "After building the SVM, I'm going to save the object in a file using Pickle"
   ]
  },
  {
   "cell_type": "code",
   "execution_count": null,
   "metadata": {},
   "outputs": [],
   "source": [
    "import pickle\n",
    "pickle.dump(svm, open('svm_model.pkl', 'wb'))"
   ]
  },
  {
   "cell_type": "code",
   "execution_count": null,
   "id": "95afef40",
   "metadata": {},
   "outputs": [
    {
     "ename": "AttributeError",
     "evalue": "'SVM' object has no attribute 'w'",
     "output_type": "error",
     "traceback": [
      "\u001b[1;31m---------------------------------------------------------------------------\u001b[0m",
      "\u001b[1;31mAttributeError\u001b[0m                            Traceback (most recent call last)",
      "\u001b[1;32mc:\\Users\\micah\\OneDrive - University of Kansas\\KU Junior\\MATH 582\\final project\\mnist_guesser\\model_script.ipynb Cell 8\u001b[0m line \u001b[0;36m1\n\u001b[1;32m----> <a href='vscode-notebook-cell:/c%3A/Users/micah/OneDrive%20-%20University%20of%20Kansas/KU%20Junior/MATH%20582/final%20project/mnist_guesser/model_script.ipynb#X10sZmlsZQ%3D%3D?line=0'>1</a>\u001b[0m y_pred \u001b[39m=\u001b[39m svm\u001b[39m.\u001b[39;49mpredict(X_test)\n",
      "File \u001b[1;32mc:\\Users\\micah\\OneDrive - University of Kansas\\KU Junior\\MATH 582\\final project\\mnist_guesser\\svm.py:45\u001b[0m, in \u001b[0;36mSVM.predict\u001b[1;34m(self, X)\u001b[0m\n\u001b[0;32m     43\u001b[0m \u001b[39mdef\u001b[39;00m \u001b[39mpredict\u001b[39m( \u001b[39mself\u001b[39m, X: pd\u001b[39m.\u001b[39mDataFrame ):\n\u001b[0;32m     44\u001b[0m     N \u001b[39m=\u001b[39m X\u001b[39m.\u001b[39mshape[ \u001b[39m0\u001b[39m ]\n\u001b[1;32m---> 45\u001b[0m     output \u001b[39m=\u001b[39m X \u001b[39m@\u001b[39m \u001b[39mself\u001b[39;49m\u001b[39m.\u001b[39;49mw\u001b[39m.\u001b[39mT \u001b[39m+\u001b[39m np\u001b[39m.\u001b[39mones( ( N, \u001b[39m1\u001b[39m ) ) \u001b[39m*\u001b[39m \u001b[39mself\u001b[39m\u001b[39m.\u001b[39mb\n\u001b[0;32m     46\u001b[0m     \u001b[39mfor\u001b[39;00m i \u001b[39min\u001b[39;00m \u001b[39mrange\u001b[39m( \u001b[39mlen\u001b[39m( output ) ):\n\u001b[0;32m     47\u001b[0m         \u001b[39mif\u001b[39;00m output[ i ][ \u001b[39m0\u001b[39m ] \u001b[39m<\u001b[39m \u001b[39m0\u001b[39m:\n",
      "\u001b[1;31mAttributeError\u001b[0m: 'SVM' object has no attribute 'w'"
     ]
    }
   ],
   "source": [
    "y_pred = svm.predict(X_test)"
   ]
  },
  {
   "cell_type": "code",
   "execution_count": null,
   "id": "efa2d16e",
   "metadata": {},
   "outputs": [
    {
     "name": "stdout",
     "output_type": "stream",
     "text": [
      "[[ 973    0    1    0    0    2    1    1    2    0]\n",
      " [   0 1126    3    1    0    1    1    1    2    0]\n",
      " [   6    1 1006    2    1    0    2    7    6    1]\n",
      " [   0    0    2  995    0    2    0    5    5    1]\n",
      " [   0    0    5    0  961    0    3    0    2   11]\n",
      " [   2    0    0    9    0  871    4    1    4    1]\n",
      " [   6    2    0    0    2    3  944    0    1    0]\n",
      " [   0    6   11    1    1    0    0  996    2   11]\n",
      " [   3    0    2    6    3    2    2    3  950    3]\n",
      " [   3    4    1    7   10    2    1    7    4  970]]\n"
     ]
    },
    {
     "data": {
      "text/plain": [
       "0.9792"
      ]
     },
     "execution_count": 6,
     "metadata": {},
     "output_type": "execute_result"
    }
   ],
   "source": [
    "from sklearn.metrics import confusion_matrix, accuracy_score\n",
    "cm = confusion_matrix(y_test, y_pred)\n",
    "print(cm)\n",
    "accuracy_score(y_test, y_pred)"
   ]
  },
  {
   "cell_type": "markdown",
   "metadata": {},
   "source": [
    "The provided confusion matrix offers a detailed snapshot of a classification model's performance across ten classes (or in this case, ten values of pixels since I did not normalize them). Notably, the diagonal elements indicate the number of correct predictions for each class. The model achieved high precision in predicting class 1 (with 1126 correct predictions) and class 2 (with 1006 correct predictions). However, off-diagonal elements are areas of misclassification, such as instances where class 1 was mistakenly predicted as class 2 three times. Nonetheless, he matrix illustrates the model's exceptional performance.\n",
    "\n",
    "Below the confusion matrix is the accuracy score. My model was able to classify grayscale digits in the MNIST dataset at 97.92% accuracy!"
   ]
  }
 ],
 "metadata": {
  "kernelspec": {
   "display_name": "Python 3 (ipykernel)",
   "language": "python",
   "name": "python3"
  },
  "language_info": {
   "codemirror_mode": {
    "name": "ipython",
    "version": 3
   },
   "file_extension": ".py",
   "mimetype": "text/x-python",
   "name": "python",
   "nbconvert_exporter": "python",
   "pygments_lexer": "ipython3",
   "version": "3.11.5"
  }
 },
 "nbformat": 4,
 "nbformat_minor": 5
}
