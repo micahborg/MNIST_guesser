{
 "cells": [
  {
   "cell_type": "markdown",
   "id": "734a0470",
   "metadata": {},
   "source": [
    "MNIST Dataset Support Vector Machine (SVM) by Micah Borghese"
   ]
  },
  {
   "cell_type": "markdown",
   "id": "1b0d14ad",
   "metadata": {},
   "source": [
    "The SVM model is a supervised learning model that can be used for both classification and regression problems. The SVM model is a representation of the examples as points in space, mapped so that the examples of the separate categories are divided by a clear gap that is as wide as possible. New examples are then mapped into that same space and predicted to belong to a category based on which side of the gap they fall on.\n",
    "\n",
    "Thoughout this notebook, I'm going to guide in the creation of a SVM learning model to recognize handwritten digits on a 28x28 pixel canvas"
   ]
  },
  {
   "cell_type": "code",
   "execution_count": 1,
   "id": "6d6751b8",
   "metadata": {},
   "outputs": [
    {
     "name": "stderr",
     "output_type": "stream",
     "text": [
      "C:\\Users\\micah\\AppData\\Local\\Packages\\PythonSoftwareFoundation.Python.3.11_qbz5n2kfra8p0\\LocalCache\\local-packages\\Python311\\site-packages\\tqdm\\auto.py:21: TqdmWarning: IProgress not found. Please update jupyter and ipywidgets. See https://ipywidgets.readthedocs.io/en/stable/user_install.html\n",
      "  from .autonotebook import tqdm as notebook_tqdm\n"
     ]
    }
   ],
   "source": [
    "import tensorflow as tf\n",
    "import tensorflow_datasets as tfds\n",
    "import numpy as np\n",
    "import matplotlib.pyplot as plt\n",
    "import pandas as pd\n",
    "\n",
    "ds, info = tfds.load('mnist', split=None, with_info=True)"
   ]
  },
  {
   "cell_type": "markdown",
   "metadata": {},
   "source": [
    "Now that the dataset is loaded in, we should probably normalize the vector images (make the pixels either a 0 or a 1). This would *probably* help with the model's performance. \n",
    "\n",
    "However, I'm going to skip that for now and implement it later. It would also be cool to see how an unnormalized vs normalized dataset would compare in classification accuracy."
   ]
  },
  {
   "cell_type": "code",
   "execution_count": 2,
   "metadata": {},
   "outputs": [
    {
     "name": "stdout",
     "output_type": "stream",
     "text": [
      "(10000, 28, 28, 1)\n",
      "(10000, 784)\n"
     ]
    }
   ],
   "source": [
    "training_image_arrays = np.array(list(ds['train'].map(lambda x: x['image']).as_numpy_iterator())) # Convert images to NumPy arrays\n",
    "training_flatten_images = training_image_arrays.reshape(training_image_arrays.shape[0], -1) # Flatten images (28x28) to 1D vectors of 784 pixels\n",
    "column_names = [f\"pixel_{i}\" for i in range(training_flatten_images.shape[1])] # Create a pandas DataFrame\n",
    "X_train = pd.DataFrame(training_flatten_images, columns=column_names) # x is the independent variable (input) of the model, the vector of features (28x28=784 pixels)\n",
    "y_train = tfds.as_dataframe(ds['train'].map(lambda x: x['label'])) # y is the dependent variable (output) of the model, the label (0-9)\n",
    "\n",
    "testing_image_arrays = np.array(list(ds['test'].map(lambda x: x['image']).as_numpy_iterator()))\n",
    "print(testing_image_arrays.shape)\n",
    "testing_flatten_images = testing_image_arrays.reshape(testing_image_arrays.shape[0], -1)\n",
    "print(testing_flatten_images.shape)\n",
    "column_names = [f\"pixel_{i}\" for i in range(testing_flatten_images.shape[1])]\n",
    "X_test = pd.DataFrame(testing_flatten_images, columns=column_names)\n",
    "y_test = tfds.as_dataframe(ds['test'].map(lambda x: x['label']))"
   ]
  },
  {
   "cell_type": "markdown",
   "id": "5dffb835",
   "metadata": {},
   "source": [
    "Using Scikit-Learn's Support Vector Machine (SVM) classification method, I can train a model to classify the images in the MNIST dataset. \n",
    "\n",
    "First I'm going to try with the radial basis functions (rbf) kernel, which is a good choice for handling non-linearly seperable feature vectors. It is important to note that the default value of the gamma parameter of rbf is 1/(n_features * X.var()) and the default value of the C parameter is 1.0. Since this will be a non-binary classification (there are 10 classes), I have also set the decision strategy to one-vs-the-rest."
   ]
  },
  {
   "cell_type": "code",
   "execution_count": 3,
   "id": "7322e47a",
   "metadata": {},
   "outputs": [
    {
     "name": "stderr",
     "output_type": "stream",
     "text": [
      "C:\\Users\\micah\\AppData\\Local\\Packages\\PythonSoftwareFoundation.Python.3.11_qbz5n2kfra8p0\\LocalCache\\local-packages\\Python311\\site-packages\\sklearn\\utils\\validation.py:1183: DataConversionWarning: A column-vector y was passed when a 1d array was expected. Please change the shape of y to (n_samples, ), for example using ravel().\n",
      "  y = column_or_1d(y, warn=True)\n"
     ]
    }
   ],
   "source": [
    "from sklearn.svm import SVC\n",
    "from sklearn.multiclass import OneVsRestClassifier\n",
    "svm = SVC(kernel='rbf', decision_function_shape='ovr', random_state=0)\n",
    "svm = svm.fit(X_train, y_train) # train the model on the training data and use OneVsRestClassifier to handle multiclass classification\n",
    "\n",
    "# from svm import SVM\n",
    "# svm = SVM()\n",
    "# svm.fit(X_train, y_train)"
   ]
  },
  {
   "cell_type": "markdown",
   "metadata": {},
   "source": [
    "After building the SVM, I'm going to save the object in a file using Pickle"
   ]
  },
  {
   "cell_type": "code",
   "execution_count": 4,
   "metadata": {},
   "outputs": [],
   "source": [
    "import pickle\n",
    "pickle.dump(svm, open('svm_model.pkl', 'wb'))"
   ]
  },
  {
   "cell_type": "markdown",
   "id": "0a70c9a9",
   "metadata": {},
   "source": [
    "Now, I'm going to run the prediction against the test cases from when I partitioned the dataset"
   ]
  },
  {
   "cell_type": "code",
   "execution_count": 5,
   "id": "95afef40",
   "metadata": {},
   "outputs": [],
   "source": [
    "y_pred = svm.predict(X_test)"
   ]
  },
  {
   "cell_type": "code",
   "execution_count": 6,
   "id": "efa2d16e",
   "metadata": {},
   "outputs": [
    {
     "name": "stdout",
     "output_type": "stream",
     "text": [
      "[[ 973    0    1    0    0    2    1    1    2    0]\n",
      " [   0 1126    3    1    0    1    1    1    2    0]\n",
      " [   6    1 1006    2    1    0    2    7    6    1]\n",
      " [   0    0    2  995    0    2    0    5    5    1]\n",
      " [   0    0    5    0  961    0    3    0    2   11]\n",
      " [   2    0    0    9    0  871    4    1    4    1]\n",
      " [   6    2    0    0    2    3  944    0    1    0]\n",
      " [   0    6   11    1    1    0    0  996    2   11]\n",
      " [   3    0    2    6    3    2    2    3  950    3]\n",
      " [   3    4    1    7   10    2    1    7    4  970]]\n",
      "Precision: 0.9791973966593345\n",
      "Recall: 0.9790919842945065\n",
      "Accuracy score: 0.9792\n"
     ]
    }
   ],
   "source": [
    "from sklearn.metrics import confusion_matrix, accuracy_score, precision_score, recall_score\n",
    "cm = confusion_matrix(y_test, y_pred)\n",
    "print(cm)\n",
    "print(\"Precision:\", precision_score(y_test, y_pred, average=\"macro\"))\n",
    "print(\"Recall:\", recall_score(y_test, y_pred, average=\"macro\"))\n",
    "print(\"Accuracy score:\", accuracy_score(y_test, y_pred))"
   ]
  },
  {
   "cell_type": "markdown",
   "metadata": {},
   "source": [
    "The provided confusion matrix offers a detailed snapshot of a classification model's performance across ten classes (digits 0-9). Notably, the diagonal elements indicate the number of correct predictions for each class. The model achieved high precision in predicting class \"1\" (with 1126 correct predictions) and class \"2\" (with 1006 correct predictions). However, off-diagonal elements are areas of misclassification, such as instances where class 1 was mistakenly predicted as class 2 three times. Nonetheless, he matrix illustrates the model's exceptional performance.\n",
    "\n",
    "Below the confusion matrix is the accuracy score. My model was able to classify grayscale digits in the MNIST dataset at 97.92% accuracy!"
   ]
  },
  {
   "cell_type": "markdown",
   "metadata": {},
   "source": [
    "Below I'm generating a proof of 5 predictions that my model made with the corrosponding images. Since my model has a high accuracy rate, we should see that most of the predictions and images match to the human eye!"
   ]
  },
  {
   "cell_type": "code",
   "execution_count": 7,
   "metadata": {},
   "outputs": [
    {
     "data": {
      "image/png": "[encoded data removed]",
      "text/plain": [
       "<Figure size 640x480 with 1 Axes>"
      ]
     },
     "metadata": {},
     "output_type": "display_data"
    },
    {
     "data": {
      "image/png": "[encoded data removed]",
      "text/plain": [
       "<Figure size 640x480 with 1 Axes>"
      ]
     },
     "metadata": {},
     "output_type": "display_data"
    },
    {
     "data": {
      "image/png": "[encoded data removed]",
      "text/plain": [
       "<Figure size 640x480 with 1 Axes>"
      ]
     },
     "metadata": {},
     "output_type": "display_data"
    },
    {
     "data": {
      "image/png": "[encoded data removed]",
      "text/plain": [
       "<Figure size 640x480 with 1 Axes>"
      ]
     },
     "metadata": {},
     "output_type": "display_data"
    },
    {
     "data": {
      "image/png": "[encoded data removed]",
      "text/plain": [
       "<Figure size 640x480 with 1 Axes>"
      ]
     },
     "metadata": {},
     "output_type": "display_data"
    }
   ],
   "source": [
    "import pickle\n",
    "svm_model = pickle.load(open('svm_model.pkl', 'rb'))\n",
    "\n",
    "for i in range(5):\n",
    "    pixel_data = []\n",
    "    for j in range(784): # 784 pixels in each image\n",
    "        pixel_data.append(X_test[f'pixel_{j}'][i])\n",
    "    pixel_array = np.array(pixel_data, dtype='uint8')\n",
    "    image_matrix = pixel_array.reshape((28, 28))\n",
    "\n",
    "    plt.imshow(image_matrix, cmap='gray')  # 'gray' colormap for black and white images\n",
    "    plt.title(f\"Predicted label: {y_pred[i]}\")\n",
    "    plt.show()"
   ]
  },
  {
   "cell_type": "code",
   "execution_count": 12,
   "id": "c87867ca",
   "metadata": {},
   "outputs": [
    {
     "name": "stderr",
     "output_type": "stream",
     "text": [
      "C:\\Users\\micah\\AppData\\Local\\Packages\\PythonSoftwareFoundation.Python.3.11_qbz5n2kfra8p0\\LocalCache\\local-packages\\Python311\\site-packages\\sklearn\\utils\\validation.py:1183: DataConversionWarning: A column-vector y was passed when a 1d array was expected. Please change the shape of y to (n_samples, ), for example using ravel().\n",
      "  y = column_or_1d(y, warn=True)\n"
     ]
    },
    {
     "name": "stdout",
     "output_type": "stream",
     "text": [
      "[[ 972    1    0    0    0    0    2    1    3    1]\n",
      " [   0 1122    2    1    1    1    2    0    6    0]\n",
      " [   4    0 1010    3    1    0    0    7    7    0]\n",
      " [   0    0    3  986    0    2    0    5   11    3]\n",
      " [   2    0    2    0  956    0    3    1    2   16]\n",
      " [   2    0    0   11    0  863    4    1    9    2]\n",
      " [   7    2    0    0    2    4  940    0    3    0]\n",
      " [   2    5    9    2    2    0    0  998    1    9]\n",
      " [   5    1    4    8    5    3    1    4  941    2]\n",
      " [   1    6    1   10    8    3    1    5    6  968]]\n",
      "Precision: 0.9756090351328016\n",
      "Recall: 0.9753827777035863\n",
      "Accuracy score: 0.9756\n"
     ]
    }
   ],
   "source": [
    "from sklearn.svm import SVC\n",
    "from sklearn.multiclass import OneVsRestClassifier\n",
    "svm = SVC(kernel='rbf', C=1.15, gamma=0.2, decision_function_shape='ovr', random_state=0)\n",
    "svm = svm.fit(X_train, y_train) # train the model on the training data and use OneVsRestClassifier to handle multiclass classification\n",
    "from sklearn.metrics import confusion_matrix, accuracy_score, precision_score, recall_score\n",
    "cm = confusion_matrix(y_test, y_pred)\n",
    "print(cm)\n",
    "print(\"Precision:\", precision_score(y_test, y_pred, average=\"macro\"))\n",
    "print(\"Recall:\", recall_score(y_test, y_pred, average=\"macro\"))\n",
    "print(\"Accuracy score:\", accuracy_score(y_test, y_pred))"
   ]
  },
  {
   "cell_type": "markdown",
   "metadata": {},
   "source": [
    "Great! Now, I'm going to do some Normalizing on the original data to see if that affects the accuracy rates..."
   ]
  },
  {
   "cell_type": "code",
   "execution_count": 8,
   "metadata": {},
   "outputs": [
    {
     "name": "stderr",
     "output_type": "stream",
     "text": [
      "C:\\Users\\micah\\AppData\\Local\\Packages\\PythonSoftwareFoundation.Python.3.11_qbz5n2kfra8p0\\LocalCache\\local-packages\\Python311\\site-packages\\sklearn\\utils\\validation.py:1183: DataConversionWarning: A column-vector y was passed when a 1d array was expected. Please change the shape of y to (n_samples, ), for example using ravel().\n",
      "  y = column_or_1d(y, warn=True)\n"
     ]
    },
    {
     "name": "stdout",
     "output_type": "stream",
     "text": [
      "[[ 972    1    0    0    0    0    2    1    3    1]\n",
      " [   0 1122    2    1    1    1    2    0    6    0]\n",
      " [   4    0 1010    3    1    0    0    7    7    0]\n",
      " [   0    0    3  986    0    2    0    5   11    3]\n",
      " [   2    0    2    0  956    0    3    1    2   16]\n",
      " [   2    0    0   11    0  863    4    1    9    2]\n",
      " [   7    2    0    0    2    4  940    0    3    0]\n",
      " [   2    5    9    2    2    0    0  998    1    9]\n",
      " [   5    1    4    8    5    3    1    4  941    2]\n",
      " [   1    6    1   10    8    3    1    5    6  968]]\n",
      "Precision: 0.9756090351328016\n",
      "Recall: 0.9753827777035863\n",
      "Accuracy score: 0.9756\n"
     ]
    }
   ],
   "source": [
    "# change all non-zero values of X_train to 1\n",
    "X_train[X_train > 0] = 1\n",
    "# change all non-zero values of X_test to 1\n",
    "X_test[X_test > 0] = 1\n",
    "\n",
    "from sklearn.svm import SVC\n",
    "svm = SVC(kernel='rbf', decision_function_shape='ovr', random_state=0)\n",
    "svm = svm.fit(X_train, y_train)\n",
    "\n",
    "y_pred = svm.predict(X_test)\n",
    "\n",
    "from sklearn.metrics import confusion_matrix, accuracy_score, precision_score, recall_score\n",
    "cm = confusion_matrix(y_test, y_pred)\n",
    "print(cm)\n",
    "print(\"Precision:\", precision_score(y_test, y_pred, average=\"macro\"))\n",
    "print(\"Recall:\", recall_score(y_test, y_pred, average=\"macro\"))\n",
    "print(\"Accuracy score:\", accuracy_score(y_test, y_pred))\n"
   ]
  },
  {
   "cell_type": "markdown",
   "id": "5da76849",
   "metadata": {},
   "source": [
    "It doesn't look like the model did much better as a result."
   ]
  }
 ],
 "metadata": {
  "kernelspec": {
   "display_name": "Python 3 (ipykernel)",
   "language": "python",
   "name": "python3"
  },
  "language_info": {
   "codemirror_mode": {
    "name": "ipython",
    "version": 3
   },
   "file_extension": ".py",
   "mimetype": "text/x-python",
   "name": "python",
   "nbconvert_exporter": "python",
   "pygments_lexer": "ipython3",
   "version": "3.11.7"
  }
 },
 "nbformat": 4,
 "nbformat_minor": 5
}
